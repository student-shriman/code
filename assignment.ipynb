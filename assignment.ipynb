{
 "cells": [
  {
   "cell_type": "code",
   "execution_count": 1,
   "metadata": {},
   "outputs": [],
   "source": [
    "# General imports ..\n",
    "import os\n",
    "import random\n",
    "import logging\n",
    "import urllib3\n",
    "import warnings\n",
    "import json\n",
    "import requests\n",
    "\n",
    "from tqdm import tqdm\n",
    "from dotenv import load_dotenv\n",
    "\n",
    "# langchain imports ..\n",
    "from langchain.retrievers import WikipediaRetriever\n",
    "from langchain.chat_models import ChatOpenAI\n",
    "from langchain.llms import OpenAI\n",
    "from langchain_google_genai import ChatGoogleGenerativeAI, GoogleGenerativeAIEmbeddings\n",
    "import google.generativeai as genai\n",
    "\n",
    "from urls import base_url, api_url, get_sub_url, get_sub_chap_url, add_ai_url\n",
    "from logger import setup_logger\n",
    "\n",
    "load_dotenv()\n",
    "genai.configure(api_key=os.getenv(\"GOOGLE_API_KEY\"))\n",
    "\n",
    "from get_topics import *\n",
    "\n",
    "# 1. Generate answers ..\n",
    "def gen_content_with_openai(prompt):\n",
    "    model_name = \"gpt-4-1106-preview\"\n",
    "    temperature = 0.5\n",
    "    model = OpenAI(model_name=model_name, temperature=temperature)\n",
    "    output = model(prompt)\n",
    "    return output\n",
    "\n",
    "# 2.  Gmini Pro ..\n",
    "def gen_content_with_gemini_pro(prompt) :\n",
    "    llm = ChatGoogleGenerativeAI(model=\"gemini-pro\", temperature=0.5)\n",
    "    out = llm.invoke(prompt)\n",
    "    return out.content\n"
   ]
  },
  {
   "cell_type": "code",
   "execution_count": 2,
   "metadata": {},
   "outputs": [
    {
     "data": {
      "text/plain": [
       "{'chapterName': 'Relations and functions : Types of Relations',\n",
       " 'topicName': 'Symmetric',\n",
       " 'topic_grade': '12 (Science)',\n",
       " 'subject': 'Mathematics'}"
      ]
     },
     "execution_count": 2,
     "metadata": {},
     "output_type": "execute_result"
    }
   ],
   "source": [
    "topics = get_topics_grade_wise('Mathematics', 12)\n",
    "topics[3]"
   ]
  },
  {
   "cell_type": "code",
   "execution_count": 11,
   "metadata": {},
   "outputs": [
    {
     "name": "stdout",
     "output_type": "stream",
     "text": [
      "<h2>Chapter: Linear Algebra</h2>\n",
      "<p>Grade: 12</p>\n",
      "<h3>Mathematics Assignment - Vectors (English)</h3>\n",
      "<p>This is your assignment content for Vectors in English:</p>\n",
      "<ol>\n",
      "  <li>Write a short essay on Vectors. For example, discuss the significance of vectors in physics and engineering applications. Alternatively, explore historical developments in the understanding of vectors.</li>\n",
      "  <li>Solve the problems from Linear Algebra. For instance, calculate the resultant vector of two given vectors. Alternatively, apply vector addition and subtraction to real-world scenarios, such as displacement in navigation.</li>\n",
      "  <li>Research and present a project on Vectors. For example, explore real-world examples where vector concepts are applied, such as navigation systems or computer graphics. Alternatively, investigate the history of vector analysis and its contributions to mathematics and science.</li>\n",
      "  <li>Create a poster illustrating key concepts related to Vectors. Include visual representations and explanations to aid understanding.</li>\n",
      "  <li>Design a quiz or set of practice problems on Vectors. Include a variety of question types to assess different aspects of understanding, such as multiple choice, short answer, and problem-solving.</li>\n",
      "</ol>\n"
     ]
    }
   ],
   "source": [
    "def gen_html_prompt(topic, chapter, grade, subject, language):\n",
    "    # Define HTML instructions\n",
    "    html_instructions = {\n",
    "        \"heading\": \"<h{level}>\",\n",
    "        \"paragraph\": \"<p>\",\n",
    "        \"strong\": \"<strong>\",\n",
    "        \"subscript\": \"<sub>\",\n",
    "        \"superscript\": \"<sup>\",\n",
    "        \"mathjax_inline\": \"$$\",\n",
    "        \"mathjax_block\": \"$$\"\n",
    "    }\n",
    "\n",
    "    # Construct the prompt with instructions, paragraph, and HTML format instructions\n",
    "    prompt = (\n",
    "        f\"{html_instructions['paragraph']}Please embed HTML tags as necessary to format the following assignment for the topic '{topic}':\\n\\n\"\n",
    "        f\"{html_instructions['heading'].format(level=2)}Chapter: {chapter}{html_instructions['heading'].format(level=2)}\"\n",
    "        f\"{html_instructions['paragraph']}Grade: {grade}{html_instructions['paragraph']}\"\n",
    "        f\"{html_instructions['heading'].format(level=3)}{subject} Assignment - {topic} ({language}){html_instructions['heading'].format(level=3)}\"\n",
    "        f\"{html_instructions['paragraph']}This is your assignment content for {topic} in {language}:{html_instructions['paragraph']}\"\n",
    "        f\"{html_instructions['paragraph']}1. Write a short essay on {topic}. For example, discuss the significance of vectors in physics and engineering applications. Alternatively, explore historical developments in the understanding of vectors.{html_instructions['paragraph']}\"\n",
    "        f\"{html_instructions['paragraph']}2. Solve the problems from {chapter}. For instance, calculate the resultant vector of two given vectors. Alternatively, apply vector addition and subtraction to real-world scenarios, such as displacement in navigation.{html_instructions['paragraph']}\"\n",
    "        f\"{html_instructions['paragraph']}3. Research and present a project on {topic}. For example, explore real-world examples where vector concepts are applied, such as navigation systems or computer graphics. Alternatively, investigate the history of vector analysis and its contributions to mathematics and science.{html_instructions['paragraph']}\"\n",
    "        f\"{html_instructions['paragraph']}4. Create a poster illustrating key concepts related to {topic}. Include visual representations and explanations to aid understanding.{html_instructions['paragraph']}\"\n",
    "        f\"{html_instructions['paragraph']}5. Design a quiz or set of practice problems on {topic}. Include a variety of question types to assess different aspects of understanding, such as multiple choice, short answer, and problem-solving.{html_instructions['paragraph']}\"\n",
    "        \n",
    "    )\n",
    "\n",
    "    return prompt\n",
    "\n",
    "# Example usage:\n",
    "topic = \"Vectors\"\n",
    "chapter = \"Linear Algebra\"\n",
    "grade = \"12\"\n",
    "subject = \"Mathematics\"\n",
    "language = \"English\"\n",
    "assignment_prompt = gen_html_prompt(topic, chapter, grade, subject, language)\n",
    "out = gen_content_with_gemini_pro(assignment_prompt)\n",
    "print(out)"
   ]
  },
  {
   "cell_type": "code",
   "execution_count": 16,
   "metadata": {},
   "outputs": [
    {
     "name": "stdout",
     "output_type": "stream",
     "text": [
      "<h2>अध्याय: रैखिक बीजगणित</h2>\n",
      "<p>ग्रेड: 12</p>\n",
      "<h3>गणित असाइनमेंट - वेक्टर (अंग्रेजी)</h3>\n",
      "<p>अंग्रेजी में वेक्टर के लिए यह आपकी असाइनमेंट सामग्री है:</p>\n",
      "<ol>\n",
      "  <li>वेक्टर पर एक लघु निबंध लिखें। उदाहरण के लिए, भौतिकी और इंजीनियरिंग अनुप्रयोगों में वैक्टर के महत्व पर चर्चा करें। वैकल्पिक रूप से, वैक्टर की समझ में ऐतिहासिक विकास का पता लगाएं।</li>\n",
      "  <li>रैखिक बीजगणित से समस्याओं को हल करें। उदाहरण के लिए, दिए गए दो सदिशों के परिणामी सदिश की गणना करें। वैकल्पिक रूप से, वास्तविक दुनिया के परिदृश्यों में वेक्टर जोड़ और घटाव लागू करें, जैसे नेविगेशन में विस्थापन।</li>\n",
      "  <li>वेक्टर पर शोध करें और एक प्रोजेक्ट प्रस्तुत करें। उदाहरण के लिए, वास्तविक दुनिया के उदाहरण देखें जहां वेक्टर अवधारणाएं लागू होती हैं, जैसे नेविगेशन सिस्टम या कंप्यूटर ग्राफिक्स। वैकल्पिक रूप से, वेक्टर विश्लेषण के इतिहास और गणित और विज्ञान में इसके योगदान की जांच करें।</li>\n",
      "  <li>वेक्टर से संबंधित प्रमुख अवधारणाओं को दर्शाने वाला एक पोस्टर बनाएं। समझने में सहायता के लिए दृश्य प्रतिनिधित्व और स्पष्टीकरण शामिल करें।</li>\n",
      "  <li>वेक्टर पर एक प्रश्नोत्तरी या अभ्यास समस्याओं का सेट डिज़ाइन करें। समझ के विभिन्न पहलुओं, जैसे बहुविकल्पी, संक्षिप्त उत्तर और समस्या-समाधान का आकलन करने के लिए विभिन्न प्रकार के प्रश्न शामिल करें।</li>\n",
      "</ol>\n"
     ]
    }
   ],
   "source": [
    "from translate import translate\n",
    "\n",
    "print(translate(out, \"Hindi\"))"
   ]
  },
  {
   "cell_type": "code",
   "execution_count": null,
   "metadata": {},
   "outputs": [],
   "source": []
  }
 ],
 "metadata": {
  "kernelspec": {
   "display_name": "vridhee",
   "language": "python",
   "name": "python3"
  },
  "language_info": {
   "codemirror_mode": {
    "name": "ipython",
    "version": 3
   },
   "file_extension": ".py",
   "mimetype": "text/x-python",
   "name": "python",
   "nbconvert_exporter": "python",
   "pygments_lexer": "ipython3",
   "version": "3.10.0"
  }
 },
 "nbformat": 4,
 "nbformat_minor": 2
}
